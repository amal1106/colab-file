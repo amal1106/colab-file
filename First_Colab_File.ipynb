{
  "nbformat": 4,
  "nbformat_minor": 0,
  "metadata": {
    "colab": {
      "provenance": [],
      "include_colab_link": true
    },
    "kernelspec": {
      "name": "python3",
      "display_name": "Python 3"
    },
    "language_info": {
      "name": "python"
    }
  },
  "cells": [
    {
      "cell_type": "markdown",
      "metadata": {
        "id": "view-in-github",
        "colab_type": "text"
      },
      "source": [
        "<a href=\"https://colab.research.google.com/github/amal1106/colab-file/blob/main/First_Colab_File.ipynb\" target=\"_parent\"><img src=\"https://colab.research.google.com/assets/colab-badge.svg\" alt=\"Open In Colab\"/></a>"
      ]
    },
    {
      "cell_type": "code",
      "execution_count": 18,
      "metadata": {
        "id": "6cI7RRe_mmyW"
      },
      "outputs": [],
      "source": []
    },
    {
      "cell_type": "code",
      "source": [
        "from google.colab import drive\n",
        "drive.mount('/content/drive')"
      ],
      "metadata": {
        "colab": {
          "base_uri": "https://localhost:8080/"
        },
        "id": "w8CMIXle59z1",
        "outputId": "688390de-114c-47a1-deef-d6826b931d5e"
      },
      "execution_count": 19,
      "outputs": [
        {
          "output_type": "stream",
          "name": "stdout",
          "text": [
            "Drive already mounted at /content/drive; to attempt to forcibly remount, call drive.mount(\"/content/drive\", force_remount=True).\n"
          ]
        }
      ]
    },
    {
      "cell_type": "markdown",
      "source": [
        "# Matrix (Array)"
      ],
      "metadata": {
        "id": "hanjIqwRcuWv"
      }
    },
    {
      "cell_type": "code",
      "source": [
        "matrix=[[1,2,3],       #size=3x3      #Inialisation d'une variable de type \"array\"\n",
        "       [4,5,6],          #matrix or array is defined by [[]]\n",
        "       [7,8,9] ]\n",
        "\n",
        "print(\"voila la matrice :\", matrix)"
      ],
      "metadata": {
        "colab": {
          "base_uri": "https://localhost:8080/"
        },
        "id": "AeRQ5OfRcwX2",
        "outputId": "68df36aa-0675-434b-fc86-bbdccea3886c"
      },
      "execution_count": 20,
      "outputs": [
        {
          "output_type": "stream",
          "name": "stdout",
          "text": [
            "voila la matrice : [[1, 2, 3], [4, 5, 6], [7, 8, 9]]\n"
          ]
        }
      ]
    },
    {
      "cell_type": "code",
      "source": [
        "import numpy as np     #numpy bib des stats et matrices\n",
        "matrix=np.array([[1,2,3],\n",
        "                [4,5,6],\n",
        "                [7,8,9] ])\n",
        "mean_value= np.mean(matrix)\n",
        "print(\"la moyenne est :\", mean_value)"
      ],
      "metadata": {
        "colab": {
          "base_uri": "https://localhost:8080/"
        },
        "id": "hCI_8hNooVv7",
        "outputId": "63e59d9a-64f9-4ba1-80d5-62b3e2e2ba05"
      },
      "execution_count": 21,
      "outputs": [
        {
          "output_type": "stream",
          "name": "stdout",
          "text": [
            "la moyenne est : 5.0\n"
          ]
        }
      ]
    },
    {
      "cell_type": "code",
      "source": [
        "median_value= np.median(matrix)\n",
        "median_value"
      ],
      "metadata": {
        "colab": {
          "base_uri": "https://localhost:8080/"
        },
        "id": "N3_GzD4Xpj1p",
        "outputId": "bb37582b-b7ec-4033-e576-32887cf8c2b2"
      },
      "execution_count": 22,
      "outputs": [
        {
          "output_type": "execute_result",
          "data": {
            "text/plain": [
              "5.0"
            ]
          },
          "metadata": {},
          "execution_count": 22
        }
      ]
    },
    {
      "cell_type": "markdown",
      "source": [
        "list"
      ],
      "metadata": {
        "id": "KvFf2TsAtTaK"
      }
    },
    {
      "cell_type": "code",
      "source": [
        "liste=[-1,5,3,-8,0]\n",
        "liste"
      ],
      "metadata": {
        "colab": {
          "base_uri": "https://localhost:8080/"
        },
        "id": "820QLsVQtXfK",
        "outputId": "81dc74a2-1318-4892-a6db-1d93513f6467"
      },
      "execution_count": 23,
      "outputs": [
        {
          "output_type": "execute_result",
          "data": {
            "text/plain": [
              "[-1, 5, 3, -8, 0]"
            ]
          },
          "metadata": {},
          "execution_count": 23
        }
      ]
    },
    {
      "cell_type": "code",
      "source": [
        "max(liste)"
      ],
      "metadata": {
        "colab": {
          "base_uri": "https://localhost:8080/"
        },
        "id": "EaKgNfBXtSYn",
        "outputId": "7327c939-e947-495b-ce31-10d8af9555ac"
      },
      "execution_count": 24,
      "outputs": [
        {
          "output_type": "execute_result",
          "data": {
            "text/plain": [
              "5"
            ]
          },
          "metadata": {},
          "execution_count": 24
        }
      ]
    },
    {
      "cell_type": "code",
      "source": [
        "min(liste)"
      ],
      "metadata": {
        "colab": {
          "base_uri": "https://localhost:8080/"
        },
        "id": "E-8o2UqSpvNH",
        "outputId": "aafabffa-450d-44c7-923e-2a9ab5a54ec8"
      },
      "execution_count": 25,
      "outputs": [
        {
          "output_type": "execute_result",
          "data": {
            "text/plain": [
              "-8"
            ]
          },
          "metadata": {},
          "execution_count": 25
        }
      ]
    },
    {
      "cell_type": "code",
      "source": [
        "sum(liste)"
      ],
      "metadata": {
        "colab": {
          "base_uri": "https://localhost:8080/"
        },
        "id": "IVTYBZ8Ct_Pe",
        "outputId": "4d05f684-f1d0-4ca8-a459-1deda4e1d6d7"
      },
      "execution_count": 26,
      "outputs": [
        {
          "output_type": "execute_result",
          "data": {
            "text/plain": [
              "-1"
            ]
          },
          "metadata": {},
          "execution_count": 26
        }
      ]
    },
    {
      "cell_type": "code",
      "source": [
        "#index=indice  #l'indexation debute de 0\n",
        "liste[0]"
      ],
      "metadata": {
        "colab": {
          "base_uri": "https://localhost:8080/"
        },
        "id": "oNZtm_UZuMfJ",
        "outputId": "bb6010c0-8200-4923-896d-262f2f80ff74"
      },
      "execution_count": 27,
      "outputs": [
        {
          "output_type": "execute_result",
          "data": {
            "text/plain": [
              "-1"
            ]
          },
          "metadata": {},
          "execution_count": 27
        }
      ]
    },
    {
      "cell_type": "markdown",
      "source": [
        "#git"
      ],
      "metadata": {
        "id": "hRl4vYNxow7K"
      }
    },
    {
      "cell_type": "code",
      "source": [
        "!git init"
      ],
      "metadata": {
        "colab": {
          "base_uri": "https://localhost:8080/"
        },
        "id": "ou_oddvworpZ",
        "outputId": "fcec7ced-e738-4139-f116-f3ecc651a2bc"
      },
      "execution_count": 28,
      "outputs": [
        {
          "output_type": "stream",
          "name": "stdout",
          "text": [
            "Reinitialized existing Git repository in /content/.git/\n"
          ]
        }
      ]
    },
    {
      "cell_type": "code",
      "source": [
        "!git add /content/drive/MyDrive/First_Colab_File.ipynb #ipynb:jupiter file (extension)"
      ],
      "metadata": {
        "id": "xPHU6lcIq9cH"
      },
      "execution_count": 29,
      "outputs": []
    },
    {
      "cell_type": "code",
      "source": [
        "!git status #to check the status of"
      ],
      "metadata": {
        "id": "6UomjCHor8Fa",
        "colab": {
          "base_uri": "https://localhost:8080/"
        },
        "outputId": "097bd2c1-947f-410a-d084-04c001c366ce"
      },
      "execution_count": 30,
      "outputs": [
        {
          "output_type": "stream",
          "name": "stdout",
          "text": [
            "On branch master\n",
            "\n",
            "No commits yet\n",
            "\n",
            "Changes to be committed:\n",
            "  (use \"git rm --cached <file>...\" to unstage)\n",
            "\t\u001b[32mnew file:   drive/MyDrive/First_Colab_File.ipynb\u001b[m\n",
            "\n",
            "Untracked files:\n",
            "  (use \"git add <file>...\" to include in what will be committed)\n",
            "\t\u001b[31m.config/\u001b[m\n",
            "\t\u001b[31mdrive/MyDrive/381232341_623461089903898_383072136772057310_n (1).jpg\u001b[m\n",
            "\t\u001b[31mdrive/MyDrive/Ali Belkhir 2023.pdf\u001b[m\n",
            "\t\u001b[31mdrive/MyDrive/Atelier De Programmation (Langage C).zip\u001b[m\n",
            "\t\u001b[31mdrive/MyDrive/Badge /\u001b[m\n",
            "\t\u001b[31m\"drive/MyDrive/Capture d\\342\\200\\231e\\314\\201cran 2023-10-18 155728.png\"\u001b[m\n",
            "\t\u001b[31mdrive/MyDrive/Chapitre-VI-Diagramme-Sequence.pdf\u001b[m\n",
            "\t\u001b[31mdrive/MyDrive/Classroom/\u001b[m\n",
            "\t\u001b[31m\"drive/MyDrive/Cours-Inte\\314\\201gration-Nume\\314\\201riqueLMA3.pdf\"\u001b[m\n",
            "\t\u001b[31mdrive/MyDrive/Feuille de calcul sans titre (1).gsheet\u001b[m\n",
            "\t\u001b[31mdrive/MyDrive/Feuille de calcul sans titre (2).gsheet\u001b[m\n",
            "\t\u001b[31mdrive/MyDrive/Feuille de calcul sans titre.gsheet\u001b[m\n",
            "\t\u001b[31mdrive/MyDrive/First_Colab_File (1).ipynb\u001b[m\n",
            "\t\u001b[31mdrive/MyDrive/GOMYCODE/\u001b[m\n",
            "\t\u001b[31mdrive/MyDrive/IMG-6929.jpg\u001b[m\n",
            "\t\u001b[31mdrive/MyDrive/IMG-6930.jpg\u001b[m\n",
            "\t\u001b[31mdrive/MyDrive/MathematicsForDS.gdoc\u001b[m\n",
            "\t\u001b[31mdrive/MyDrive/SQLQuery5.sql\u001b[m\n",
            "\t\u001b[31mdrive/MyDrive/SQLQuery6.sql\u001b[m\n",
            "\t\u001b[31mdrive/MyDrive/TD1_LMA3.pdf\u001b[m\n",
            "\t\u001b[31mdrive/MyDrive/amal_.pdf\u001b[m\n",
            "\t\u001b[31m\"drive/MyDrive/analyse de donne\\314\\201es/\"\u001b[m\n",
            "\t\u001b[31mdrive/MyDrive/chapitre 2.docx\u001b[m\n",
            "\t\u001b[31mdrive/MyDrive/chechpoint 1.sql\u001b[m\n",
            "\t\u001b[31mdrive/MyDrive/chechpoint 2  .png\u001b[m\n",
            "\t\u001b[31mdrive/MyDrive/check 2.ssmssln\u001b[m\n",
            "\t\u001b[31mdrive/MyDrive/check point.png\u001b[m\n",
            "\t\u001b[31mdrive/MyDrive/checkpoint 1/\u001b[m\n",
            "\t\u001b[31mdrive/MyDrive/checkpoint.html\u001b[m\n",
            "\t\u001b[31mdrive/MyDrive/checkpoint.ipynb\u001b[m\n",
            "\t\u001b[31mdrive/MyDrive/checkpoint/\u001b[m\n",
            "\t\u001b[31mdrive/MyDrive/checkwine.sql\u001b[m\n",
            "\t\u001b[31mdrive/MyDrive/projet ai/\u001b[m\n",
            "\t\u001b[31mdrive/MyDrive/projet power bi vs excel (1).pptx\u001b[m\n",
            "\t\u001b[31mdrive/MyDrive/projet power bi vs excel.pptx\u001b[m\n",
            "\t\u001b[31mdrive/MyDrive/rapport finall.gdoc\u001b[m\n",
            "\t\u001b[31mdrive/MyDrive/rapport finall.pdf\u001b[m\n",
            "\t\u001b[31mdrive/MyDrive/simulation(2).html\u001b[m\n",
            "\t\u001b[31msample_data/\u001b[m\n",
            "\n"
          ]
        }
      ]
    },
    {
      "cell_type": "code",
      "source": [
        "!git commit -m \"initial commit at 8pm 24 october -icon\""
      ],
      "metadata": {
        "colab": {
          "base_uri": "https://localhost:8080/"
        },
        "id": "hpU4SAjfAsFY",
        "outputId": "2d8f91d7-8766-4c3e-80d1-a9f224146497"
      },
      "execution_count": 32,
      "outputs": [
        {
          "output_type": "stream",
          "name": "stdout",
          "text": [
            "Author identity unknown\n",
            "\n",
            "*** Please tell me who you are.\n",
            "\n",
            "Run\n",
            "\n",
            "  git config --global user.email \"you@example.com\"\n",
            "  git config --global user.name \"Your Name\"\n",
            "\n",
            "to set your account's default identity.\n",
            "Omit --global to set the identity only in this repository.\n",
            "\n",
            "fatal: unable to auto-detect email address (got 'root@34d1c74b4f5b.(none)')\n"
          ]
        }
      ]
    },
    {
      "cell_type": "code",
      "source": [
        "# authentication: email + name\n",
        "!git config --global user.email \"amal.bouzidi.contact@gmail.com\"\n",
        "!git config --global user.name \"amal\""
      ],
      "metadata": {
        "id": "5A95lxlzBasV"
      },
      "execution_count": 37,
      "outputs": []
    },
    {
      "cell_type": "code",
      "source": [
        "!git commit -m \"second commit\""
      ],
      "metadata": {
        "colab": {
          "base_uri": "https://localhost:8080/"
        },
        "id": "SRuCFipPB1cK",
        "outputId": "2a8acb16-0727-48e4-c461-07a6255e3926"
      },
      "execution_count": 36,
      "outputs": [
        {
          "output_type": "stream",
          "name": "stdout",
          "text": [
            "[master (root-commit) a3922de] second commit\n",
            " 1 file changed, 1 insertion(+)\n",
            " create mode 100644 drive/MyDrive/First_Colab_File.ipynb\n"
          ]
        }
      ]
    },
    {
      "cell_type": "code",
      "source": [
        "import numpy\n",
        "numpy.__version__"
      ],
      "metadata": {
        "colab": {
          "base_uri": "https://localhost:8080/",
          "height": 36
        },
        "id": "UbwLaDwUCOwJ",
        "outputId": "341f73c6-bd04-4e72-86a8-0763c39a471b"
      },
      "execution_count": 38,
      "outputs": [
        {
          "output_type": "execute_result",
          "data": {
            "text/plain": [
              "'1.26.4'"
            ],
            "application/vnd.google.colaboratory.intrinsic+json": {
              "type": "string"
            }
          },
          "metadata": {},
          "execution_count": 38
        }
      ]
    },
    {
      "cell_type": "code",
      "source": [
        "!git commit -m \"initial commit - after numpy\""
      ],
      "metadata": {
        "colab": {
          "base_uri": "https://localhost:8080/"
        },
        "id": "4FRLt-F3Ccwg",
        "outputId": "5faa4946-1b76-4997-e6b2-6f25de6d8485"
      },
      "execution_count": 39,
      "outputs": [
        {
          "output_type": "stream",
          "name": "stdout",
          "text": [
            "On branch master\n",
            "Changes not staged for commit:\n",
            "  (use \"git add <file>...\" to update what will be committed)\n",
            "  (use \"git restore <file>...\" to discard changes in working directory)\n",
            "\t\u001b[31mmodified:   drive/MyDrive/First_Colab_File.ipynb\u001b[m\n",
            "\n",
            "Untracked files:\n",
            "  (use \"git add <file>...\" to include in what will be committed)\n",
            "\t\u001b[31m.config/\u001b[m\n",
            "\t\u001b[31mdrive/MyDrive/381232341_623461089903898_383072136772057310_n (1).jpg\u001b[m\n",
            "\t\u001b[31mdrive/MyDrive/Ali Belkhir 2023.pdf\u001b[m\n",
            "\t\u001b[31mdrive/MyDrive/Atelier De Programmation (Langage C).zip\u001b[m\n",
            "\t\u001b[31mdrive/MyDrive/Badge /\u001b[m\n",
            "\t\u001b[31m\"drive/MyDrive/Capture d\\342\\200\\231e\\314\\201cran 2023-10-18 155728.png\"\u001b[m\n",
            "\t\u001b[31mdrive/MyDrive/Chapitre-VI-Diagramme-Sequence.pdf\u001b[m\n",
            "\t\u001b[31mdrive/MyDrive/Classroom/\u001b[m\n",
            "\t\u001b[31m\"drive/MyDrive/Cours-Inte\\314\\201gration-Nume\\314\\201riqueLMA3.pdf\"\u001b[m\n",
            "\t\u001b[31mdrive/MyDrive/Feuille de calcul sans titre (1).gsheet\u001b[m\n",
            "\t\u001b[31mdrive/MyDrive/Feuille de calcul sans titre (2).gsheet\u001b[m\n",
            "\t\u001b[31mdrive/MyDrive/Feuille de calcul sans titre.gsheet\u001b[m\n",
            "\t\u001b[31mdrive/MyDrive/First_Colab_File (1).ipynb\u001b[m\n",
            "\t\u001b[31mdrive/MyDrive/GOMYCODE/\u001b[m\n",
            "\t\u001b[31mdrive/MyDrive/IMG-6929.jpg\u001b[m\n",
            "\t\u001b[31mdrive/MyDrive/IMG-6930.jpg\u001b[m\n",
            "\t\u001b[31mdrive/MyDrive/MathematicsForDS.gdoc\u001b[m\n",
            "\t\u001b[31mdrive/MyDrive/SQLQuery5.sql\u001b[m\n",
            "\t\u001b[31mdrive/MyDrive/SQLQuery6.sql\u001b[m\n",
            "\t\u001b[31mdrive/MyDrive/TD1_LMA3.pdf\u001b[m\n",
            "\t\u001b[31mdrive/MyDrive/amal_.pdf\u001b[m\n",
            "\t\u001b[31m\"drive/MyDrive/analyse de donne\\314\\201es/\"\u001b[m\n",
            "\t\u001b[31mdrive/MyDrive/chapitre 2.docx\u001b[m\n",
            "\t\u001b[31mdrive/MyDrive/chechpoint 1.sql\u001b[m\n",
            "\t\u001b[31mdrive/MyDrive/chechpoint 2  .png\u001b[m\n",
            "\t\u001b[31mdrive/MyDrive/check 2.ssmssln\u001b[m\n",
            "\t\u001b[31mdrive/MyDrive/check point.png\u001b[m\n",
            "\t\u001b[31mdrive/MyDrive/checkpoint 1/\u001b[m\n",
            "\t\u001b[31mdrive/MyDrive/checkpoint.html\u001b[m\n",
            "\t\u001b[31mdrive/MyDrive/checkpoint.ipynb\u001b[m\n",
            "\t\u001b[31mdrive/MyDrive/checkpoint/\u001b[m\n",
            "\t\u001b[31mdrive/MyDrive/checkwine.sql\u001b[m\n",
            "\t\u001b[31mdrive/MyDrive/projet ai/\u001b[m\n",
            "\t\u001b[31mdrive/MyDrive/projet power bi vs excel (1).pptx\u001b[m\n",
            "\t\u001b[31mdrive/MyDrive/projet power bi vs excel.pptx\u001b[m\n",
            "\t\u001b[31mdrive/MyDrive/rapport finall.gdoc\u001b[m\n",
            "\t\u001b[31mdrive/MyDrive/rapport finall.pdf\u001b[m\n",
            "\t\u001b[31mdrive/MyDrive/simulation(2).html\u001b[m\n",
            "\t\u001b[31msample_data/\u001b[m\n",
            "\n",
            "no changes added to commit (use \"git add\" and/or \"git commit -a\")\n"
          ]
        }
      ]
    }
  ]
}